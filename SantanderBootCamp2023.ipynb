{
  "nbformat": 4,
  "nbformat_minor": 0,
  "metadata": {
    "colab": {
      "provenance": [],
      "collapsed_sections": [
        "kNuP0SDUZMBY"
      ],
      "include_colab_link": true
    },
    "kernelspec": {
      "name": "python3",
      "display_name": "Python 3"
    },
    "language_info": {
      "name": "python"
    }
  },
  "cells": [
    {
      "cell_type": "markdown",
      "metadata": {
        "id": "view-in-github",
        "colab_type": "text"
      },
      "source": [
        "<a href=\"https://colab.research.google.com/github/celolima/santander-bootcamp/blob/main/SantanderBootCamp2023.ipynb\" target=\"_parent\"><img src=\"https://colab.research.google.com/assets/colab-badge.svg\" alt=\"Open In Colab\"/></a>"
      ]
    },
    {
      "cell_type": "markdown",
      "source": [
        "# Santander Dev Week 2023 (ETL com Python)"
      ],
      "metadata": {
        "id": "BPJQsTCULaC-"
      }
    },
    {
      "cell_type": "markdown",
      "source": [
        "**Contexto:** Você é um cientista de dados e precisa indicar filmes para cada cliente.\n",
        "\n",
        "**Condições do Problema:**\n",
        "\n",
        "1. A planilha csv será gerada para filmes aleatórios e conterá o seguinte formato:\n",
        "```\n",
        "  movie_id, name, category, popularity, budget, invoicing\n",
        "```\n",
        "2. Seu trabalho é consumir o endpoint `GET https://sdw-2023-prd.up.railway.app/users/{id}` (API da Santander Dev Week 2023) para obter os dados de cada cliente.\n",
        "3. Depois de obter os dados dos clientes, você deverá recomendar um filme para cada cliente, aleatoriamente.\n",
        "4. Uma vez o filme foi recomendado você vai enviar essas informações de volta para a API, atualizando a lista de \"filmes\" de cada usuário usando o endpoint `PUT https://sdw-2023-prd.up.railway.app/users/{id}`.\n",
        "\n"
      ],
      "metadata": {
        "id": "k5fA5OrXt1a3"
      }
    },
    {
      "cell_type": "code",
      "source": [
        "# Utilize sua própria URL se quiser ;)\n",
        "# Repositório da API: https://github.com/digitalinnovationone/santander-dev-week-2023-api\n",
        "sdw2023_api_url = 'https://sdw-2023-prd.up.railway.app'"
      ],
      "metadata": {
        "id": "FKqLC_CWoYqR"
      },
      "execution_count": 4,
      "outputs": []
    },
    {
      "cell_type": "markdown",
      "source": [
        "## Preparação\n",
        "\n",
        "*Geração do arquivo .csv contendo filmes aleatórios*"
      ],
      "metadata": {
        "id": "BjDA-mqiiHgS"
      }
    },
    {
      "cell_type": "code",
      "source": [
        "import csv\n",
        "import random\n",
        "\n",
        "# List of movie categories\n",
        "categories = [\n",
        "    \"action\", \"adventure\", \"comedy\", \"drama\", \"fantasy\",\n",
        "    \"horror\", \"musicals\", \"mystery\", \"romance\", \"science fiction\",\n",
        "    \"sports\", \"thriller\", \"Western\"\n",
        "]\n",
        "\n",
        "# Generate random movie data\n",
        "movie_data = []\n",
        "for movie_id in range(1, 301):\n",
        "    name = f\"Movie {movie_id}\"\n",
        "    category = random.choice(categories)\n",
        "    popularity = round(random.uniform(1, 10), 2)\n",
        "    budget = random.randint(1000000, 100000000)\n",
        "    invoicing = random.choice([\"domestic\", \"international\"])\n",
        "\n",
        "    movie_data.append([movie_id, name, category, popularity, budget, invoicing])\n",
        "\n",
        "# Write the data to a CSV file\n",
        "csv_file_path = \"random_movies.csv\"\n",
        "with open(csv_file_path, mode='w', newline='', encoding='utf-8') as file:\n",
        "    writer = csv.writer(file)\n",
        "    writer.writerow([\"movie_id\", \"name\", \"category\", \"popularity\", \"budget\", \"invoicing\"])\n",
        "    writer.writerows(movie_data)\n",
        "\n",
        "print(f\"CSV file '{csv_file_path}' generated successfully.\")"
      ],
      "metadata": {
        "colab": {
          "base_uri": "https://localhost:8080/"
        },
        "id": "MjUgmb_sieDX",
        "outputId": "284894cb-32da-4e58-b77b-6f09e19fef6c"
      },
      "execution_count": 1,
      "outputs": [
        {
          "output_type": "stream",
          "name": "stdout",
          "text": [
            "CSV file 'random_movies.csv' generated successfully.\n"
          ]
        }
      ]
    },
    {
      "cell_type": "markdown",
      "source": [
        "## **E**xtract\n",
        "\n",
        "Extraia a lista de IDs de usuário a partir do arquivo CSV. Para cada ID, faça uma requisição GET para obter os dados do usuário correspondente."
      ],
      "metadata": {
        "id": "9dfI-o7gLRq9"
      }
    },
    {
      "cell_type": "code",
      "execution_count": 14,
      "metadata": {
        "id": "NYydpX_GLRCB"
      },
      "outputs": [],
      "source": [
        "import pandas as pd\n",
        "\n",
        "# Convert DataFrame to a list of objects\n",
        "class Movie:\n",
        "    def __init__(self, movie_id, name, category, popularity, budget, invoicing):\n",
        "        self.movie_id = movie_id\n",
        "        self.name = name\n",
        "        self.category = category\n",
        "        self.popularity = popularity\n",
        "        self.budget = budget\n",
        "        self.invoicing = invoicing\n",
        "\n",
        "    def __str__(self):\n",
        "        return f\"Movie ID: {self.movie_id}, Name: {self.name}, Category: {self.category}, Popularity: {self.popularity}, Budget: {self.budget}, Invoicing: {self.invoicing}\"\n",
        "\n",
        "df = pd.read_csv(csv_file_path)\n",
        "movie_objects = []\n",
        "for index, row in df.iterrows():\n",
        "    movie_objects.append(Movie(\n",
        "        movie_id=row['movie_id'],\n",
        "        name=row['name'],\n",
        "        category=row['category'],\n",
        "        popularity=row['popularity'],\n",
        "        budget=row['budget'],\n",
        "        invoicing=row['invoicing']\n",
        "    ))"
      ]
    },
    {
      "cell_type": "code",
      "source": [
        "import requests\n",
        "import json\n",
        "\n",
        "def get_user(id):\n",
        "  response = requests.get(f'{sdw2023_api_url}/users/{id}')\n",
        "  return response.json() if response.status_code == 200 else None\n",
        "\n",
        "users = [user for id in range(1,20) if (user := get_user(id)) is not None]"
      ],
      "metadata": {
        "id": "F5XOuCZGSTGw"
      },
      "execution_count": 43,
      "outputs": []
    },
    {
      "cell_type": "markdown",
      "source": [
        "## **T**ransform\n",
        "\n",
        "Obtendo as recomendações de filmes"
      ],
      "metadata": {
        "id": "cWoqInB4TF1x"
      }
    },
    {
      "cell_type": "code",
      "source": [
        "def get_random_movie_recommendation(user):\n",
        "  return movie_objects[user['id']]\n",
        "\n",
        "for user in users:\n",
        "  movie = get_random_movie_recommendation(user)\n",
        "  user['movie'] = []\n",
        "  user['movie'].append({\n",
        "      \"name\": movie.name,\n",
        "      \"category\": movie.category\n",
        "  })\n",
        ""
      ],
      "metadata": {
        "id": "n1w78kNxTrZY"
      },
      "execution_count": null,
      "outputs": []
    },
    {
      "cell_type": "markdown",
      "source": [
        "## **L**oad\n",
        "\n",
        "Atualize a lista de \"movies\" de cada usuário na API com a nova mensagem gerada."
      ],
      "metadata": {
        "id": "kNuP0SDUZMBY"
      }
    },
    {
      "cell_type": "code",
      "source": [
        "def update_user(user):\n",
        "  response = requests.put(f\"{sdw2023_api_url}/users/{user['id']}\", json=user)\n",
        "  return True if response.status_code == 200 else False\n",
        "\n",
        "for user in users:\n",
        "  print(user['movie'])\n",
        "  success = update_user(user)\n",
        "  print(f\"User {user['name']} - {user['id']} updated? {success}!\")"
      ],
      "metadata": {
        "id": "YefWfYBoZMN2",
        "colab": {
          "base_uri": "https://localhost:8080/"
        },
        "outputId": "34eb6f02-1df3-495b-9755-cd14870b5bdb"
      },
      "execution_count": 46,
      "outputs": [
        {
          "output_type": "stream",
          "name": "stdout",
          "text": [
            "[{'name': 'Movie 2', 'category': 'horror'}]\n",
            "User Devweekerson - 1 updated? False!\n",
            "[{'name': 'Movie 14', 'category': 'horror'}]\n",
            "User anguile - 13 updated? True!\n",
            "[{'name': 'Movie 15', 'category': 'sports'}]\n",
            "User Maria - 14 updated? True!\n",
            "[{'name': 'Movie 16', 'category': 'horror'}]\n",
            "User Pyterson - 15 updated? True!\n",
            "[{'name': 'Movie 18', 'category': 'musicals'}]\n",
            "User Arthur - 17 updated? True!\n",
            "[{'name': 'Movie 19', 'category': 'romance'}]\n",
            "User Rides - 18 updated? True!\n",
            "[{'name': 'Movie 20', 'category': 'horror'}]\n",
            "User Money Trees - 19 updated? True!\n"
          ]
        }
      ]
    }
  ]
}